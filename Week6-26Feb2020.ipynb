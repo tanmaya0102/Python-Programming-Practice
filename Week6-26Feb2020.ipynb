{
 "cells": [
  {
   "cell_type": "markdown",
   "metadata": {},
   "source": [
    "1.Create the application to select any number of options by displaying a number of options to a user as toggle buttons. using tkinter. "
   ]
  },
  {
   "cell_type": "code",
   "execution_count": 2,
   "metadata": {},
   "outputs": [],
   "source": [
    "from tkinter import *\n",
    "root=Tk()\n",
    "Checkbutton(root,text='open').grid(row=0,column=0)\n",
    "Checkbutton(root,text='close').grid(row=0,column=1)\n",
    "root.mainloop()"
   ]
  },
  {
   "cell_type": "markdown",
   "metadata": {},
   "source": [
    "<html>\n",
    "<body>\n",
    "<img src=\"Screenshot from 2020-03-11 22-21-51.png\"></body>\n",
    "</html>"
   ]
  },
  {
   "cell_type": "markdown",
   "metadata": {},
   "source": [
    "2.Create the application to draw pictures using complex layout like graphics, text and widgets."
   ]
  },
  {
   "cell_type": "code",
   "execution_count": 3,
   "metadata": {},
   "outputs": [],
   "source": [
    "from tkinter import *\n",
    "from tkinter import messagebox\n",
    "root=Tk()\n",
    "c=Canvas(root,bg='yellow',height=250,width=300)\n",
    "#coor=\n",
    "c.create_arc(10,50,240,210,fill='red')\n",
    "c.pack()\n",
    "root.mainloop()"
   ]
  },
  {
   "cell_type": "markdown",
   "metadata": {},
   "source": [
    "<html>\n",
    "<body>\n",
    "<img src=\"Screenshot from 2020-03-11 22-27-24.png\"></body>\n",
    "</html>"
   ]
  },
  {
   "cell_type": "markdown",
   "metadata": {},
   "source": [
    "3.Create all kinds of menus incudes drop down menu into the application using tkinter."
   ]
  },
  {
   "cell_type": "code",
   "execution_count": 4,
   "metadata": {},
   "outputs": [],
   "source": [
    "from tkinter import *\n",
    "root=Tk()\n",
    "var=StringVar(root)\n",
    "var.set('menu')\n",
    "\n",
    "OptionMenu(root,var,'open','create','new').grid(row=0,column=0)\n",
    "root.mainloop()"
   ]
  },
  {
   "cell_type": "markdown",
   "metadata": {},
   "source": [
    "<html>\n",
    "<body>\n",
    "<img src=\"Screenshot from 2020-03-11 22-34-57.png\"></body>\n",
    "</html>"
   ]
  },
  {
   "cell_type": "markdown",
   "metadata": {},
   "source": [
    "4.Create graphical slider that allows to select any value from that scale. "
   ]
  },
  {
   "cell_type": "code",
   "execution_count": 5,
   "metadata": {},
   "outputs": [],
   "source": [
    "from tkinter import *\n",
    "root=Tk()\n",
    "Scale(root,from_=1,to=100,orient=\"horizontal\").grid(row=0,column=0)\n",
    "root.mainloop()\n"
   ]
  },
  {
   "cell_type": "markdown",
   "metadata": {},
   "source": [
    "<html>\n",
    "<body>\n",
    "<img src=\"Screenshot from 2020-03-11 22-37-34.png\"></body>\n",
    "</html>"
   ]
  },
  {
   "cell_type": "markdown",
   "metadata": {},
   "source": [
    "5.Create  multi-line and non-editable text with slide controller using listed widgets"
   ]
  },
  {
   "cell_type": "code",
   "execution_count": 6,
   "metadata": {},
   "outputs": [],
   "source": [
    "from tkinter import *\n",
    "root=Tk()\n",
    "var=StringVar()\n",
    "var.set(\"hey,how are you?\")\n",
    "label=Message(root,textvariable=var,relief=RAISED,anchor=CENTER).grid(row=0)\n",
    "root.mainloop()"
   ]
  },
  {
   "cell_type": "markdown",
   "metadata": {},
   "source": [
    "<html>\n",
    "<body>\n",
    "<img src=\"Screenshot from 2020-03-11 23-15-53.png\"></body>\n",
    "</html>"
   ]
  },
  {
   "cell_type": "markdown",
   "metadata": {},
   "source": [
    "6.Create two tkinter window with and without using geometry method."
   ]
  },
  {
   "cell_type": "code",
   "execution_count": 8,
   "metadata": {},
   "outputs": [],
   "source": [
    "from tkinter import *\n",
    "root = Tk()\n",
    "def open_window():\n",
    "    top=Toplevel()\n",
    "    top.geometry('200x100')\n",
    "root.geometry('200x100')\n",
    "button=Button(root,text=\"open window\",command=open_window).pack()\n",
    "root.mainloop()"
   ]
  },
  {
   "cell_type": "markdown",
   "metadata": {},
   "source": [
    "<html>\n",
    "<body>\n",
    "<img src=\"Screenshot from 2020-03-11 23-18-51.png\"></body>\n",
    "</html>"
   ]
  },
  {
   "cell_type": "markdown",
   "metadata": {},
   "source": [
    "7.Create marksheet with name; department; section and reg. No and enter marksheet by taking seven courses with subject ID and calculate the grade obtained based on the credit assigned to each subject and marks obtained. "
   ]
  },
  {
   "cell_type": "code",
   "execution_count": 14,
   "metadata": {},
   "outputs": [],
   "source": [
    "# Python program to create a \n",
    "# GUI mark sheet using tkinter \n",
    "\n",
    "\n",
    "# Import tkinter as tk \n",
    "import tkinter as tk \n",
    "\n",
    "\n",
    "# creating a new tkinter window \n",
    "master = tk.Tk() \n",
    "\n",
    "# assigning a title \n",
    "master.title(\"MARKSHEET\") \n",
    "\n",
    "# specifying geomtery for window size \n",
    "master.geometry(\"700x250\") \n",
    "\n",
    "\n",
    "# declaring objects for entering data \n",
    "e1 = tk.Entry(master) \n",
    "e2 = tk.Entry(master) \n",
    "e3 = tk.Entry(master) \n",
    "e4 = tk.Entry(master) \n",
    "e5 = tk.Entry(master)\n",
    "\n",
    "\n",
    "\n",
    "# function to display the total subject \n",
    "# credits total credits and SGPA according \n",
    "# to grades entered \n",
    "def display(): \n",
    "\t\n",
    "\t# Varibale to store total marks \n",
    "\ttot=0\n",
    "\t\n",
    "\t# 10*number of subject credits \n",
    "\t# give total credits for grade A \n",
    "\tif e4.get() == \"A\": \n",
    "\t\t\n",
    "\t\t# grid method is used for placing \n",
    "\t\t# the widgets at respective positions \n",
    "\t\t# in table like structure . \n",
    "\t\ttk.Label(master, text =\"40\").grid(row=3, column=4) \n",
    "\t\ttot += 40\n",
    "\t\t\n",
    "\t# 9*number of subject credits give \n",
    "\t# total credits for grade B \n",
    "\tif e4.get() == \"B\": \n",
    "\t\ttk.Label(master, text =\"36\").grid(row=3, column=4) \n",
    "\t\ttot += 36\n",
    "\t\t\n",
    "\t# 8*number of subject credits give \n",
    "\t# total credits for grade C \n",
    "\tif e4.get() == \"C\": \n",
    "\t\ttk.Label(master, text =\"32\").grid(row=3, column=4) \n",
    "\t\ttot += 32\n",
    "\t\t\n",
    "\t# 7*number of subject credits \n",
    "\t# give total credits for grade D\t \n",
    "\tif e4.get() == \"D\": \n",
    "\t\ttk.Label(master, text =\"28\").grid(row=3, column=4) \n",
    "\t\ttot += 28\n",
    "\t\t\n",
    "\t# 6*number of subject credits give \n",
    "\t# total credits for grade P\t \n",
    "\tif e4.get() == \"E\": \n",
    "\t\ttk.Label(master, text =\"24\").grid(row=3, column=4) \n",
    "\t\ttot += 24\n",
    "\t\t\n",
    "\t# 0*number of subject credits give \n",
    "\t# total credits for grade F\t \n",
    "\tif e4.get() == \"F\": \n",
    "\t\ttk.Label(master, text =\"0\").grid(row=3, column=4) \n",
    "\t\ttot += 0\n",
    "\n",
    "\n",
    "\t# Similarly doing with other objects \n",
    "\tif e5.get() == \"A\": \n",
    "\t\ttk.Label(master, text =\"40\").grid(row=4, column=4) \n",
    "\t\ttot += 40\n",
    "\tif e5.get() == \"B\": \n",
    "\t\ttk.Label(master, text =\"36\").grid(row=4, column=4) \n",
    "\t\ttot += 36\n",
    "\tif e5.get() == \"C\": \n",
    "\t\ttk.Label(master, text =\"32\").grid(row=4, column=4) \n",
    "\t\ttot += 32\n",
    "\tif e5.get() == \"D\": \n",
    "\t\ttk.Label(master, text =\"28\").grid(row=4, column=4) \n",
    "\t\ttot += 28\n",
    "\tif e5.get() == \"E\": \n",
    "\t\ttk.Label(master, text =\"28\").grid(row=4, column=4) \n",
    "\t\ttot += 24\n",
    "\tif e5.get() == \"F\": \n",
    "\t\ttk.Label(master, text =\"0\").grid(row=4, column=4) \n",
    "\t\ttot += 0\n",
    "\t\n",
    "\t\n",
    "\n",
    "\n",
    "\n",
    "\n",
    "\t# to display total credits \n",
    "\ttk.Label(master, text=str(tot)).grid(row=7, column=4) \n",
    "\t\n",
    "\t# to display SGPA \n",
    "\ttk.Label(master, text=str(tot/8)).grid(row=8, column=4) \n",
    "\n",
    "\t\n",
    "# end of display function \n",
    "\n",
    "# label to enter name \n",
    "tk.Label(master, text=\"Name\").grid(row=0, column=0) \n",
    "\n",
    "# label for registration number \n",
    "tk.Label(master, text=\"Reg.No\").grid(row=0, column=3) \n",
    "\n",
    "# label for roll Number \n",
    "tk.Label(master, text=\"Section\").grid(row=1, column=0) \n",
    "\n",
    "# labels for serial numbers \n",
    "tk.Label(master, text=\"Srl.No\").grid(row=2, column=0) \n",
    "tk.Label(master, text=\"1\").grid(row=3, column=0) \n",
    "tk.Label(master, text=\"2\").grid(row=4, column=0) \n",
    "\n",
    "# labels for subject codes \n",
    "tk.Label(master, text=\"Subject\").grid(row=2, column=1) \n",
    "tk.Label(master, text=\"APP\").grid(row=3, column=1) \n",
    "tk.Label(master, text=\"DAA\").grid(row=4, column=1) \n",
    "# label for grades \n",
    "tk.Label(master, text=\"Grade\").grid(row=2, column=2) \n",
    "e4.grid(row=3, column=2) \n",
    "e5.grid(row=4, column=2) \n",
    "\n",
    "\n",
    "# labels for subject credits \n",
    "tk.Label(master, text=\"Sub Credit\").grid(row=2, column=3) \n",
    "tk.Label(master, text=\"4\").grid(row=3, column=3) \n",
    "tk.Label(master, text=\"4\").grid(row=4, column=3) \n",
    "\n",
    "\n",
    "tk.Label(master, text=\"Credit obtained\").grid(row=2, column=4) \n",
    "\n",
    "# taking entries of name, reg, roll number respectively \n",
    "e1=tk.Entry(master) \n",
    "e2=tk.Entry(master) \n",
    "e3=tk.Entry(master) \n",
    "\n",
    "# organizing them in th e grid \n",
    "e1.grid(row=0, column=1) \n",
    "e2.grid(row=0, column=4) \n",
    "e3.grid(row=1, column=1) \n",
    "\n",
    "# button to display all the calculated credit scores and sgpa \n",
    "button1=tk.Button(master, text=\"submit\", bg=\"green\", command=display) \n",
    "button1.grid(row=8, column=1) \n",
    "\n",
    "\n",
    "\n",
    "tk.Label(master, text=\"Total credit\").grid(row=7, column=3) \n",
    "tk.Label(master, text=\"SGPA\").grid(row=8, column=3) \n",
    "\n",
    "\n",
    "\t\n",
    "master.mainloop() \n",
    "\n",
    "\n",
    "\n",
    "#This Marksheet can be snapshotted and printed out \n",
    "# as a report card for the semester \n",
    "\n",
    "#This code has been contributed by Soumi Bardhan \n"
   ]
  },
  {
   "cell_type": "markdown",
   "metadata": {},
   "source": [
    "<html>\n",
    "<body>\n",
    "<img src=\"Screenshot from 2020-03-11 23-40-29.png\"></body>\n",
    "</html>"
   ]
  },
  {
   "cell_type": "markdown",
   "metadata": {},
   "source": [
    "8.Create the calendar by showing data month and year with scroll down menu to fix the particular data month and year and press the click button to show the message of clicked date, month and year."
   ]
  },
  {
   "cell_type": "code",
   "execution_count": 17,
   "metadata": {},
   "outputs": [],
   "source": [
    "from tkinter import *\n",
    "\n",
    "\n",
    "import calendar \n",
    "\n",
    " \n",
    "def showCal() : \n",
    "\n",
    "\t\n",
    "\tnew_gui = Tk() \n",
    "\t\n",
    "\t\n",
    "\tnew_gui.config(background = \"white\") \n",
    "\n",
    "\t \n",
    "\tnew_gui.title(\"CALENDER\") \n",
    "\n",
    "\t\n",
    "\tnew_gui.geometry(\"550x600\") \n",
    "\n",
    "\t\n",
    "\tfetch_year = int(year_field.get()) \n",
    "\n",
    "\t \n",
    "\tcal_content = calendar.calendar(fetch_year) \n",
    "\n",
    "\t \n",
    "\tcal_year = Label(new_gui, text = cal_content, font = \"Consolas 10 bold\") \n",
    "\n",
    "\t \n",
    "\tcal_year.grid(row = 5, column = 1, padx = 20) \n",
    "\t\n",
    "\t \n",
    "\tnew_gui.mainloop() \n",
    "\n",
    "\t\n",
    "# Driver Code \n",
    "if __name__ == \"__main__\" : \n",
    "\n",
    "\t# Create a GUI window \n",
    "\tgui = Tk() \n",
    "\t\n",
    "\t# Set the background colour of GUI window \n",
    "\tgui.config(background = \"white\") \n",
    "\n",
    "\t# set the name of tkinter GUI window \n",
    "\tgui.title(\"CALENDER\") \n",
    "\n",
    "\t# Set the configuration of GUI window \n",
    "\tgui.geometry(\"250x140\") \n",
    "\n",
    "\t# Create a CALENDAR : label with specified font and size \n",
    "\tcal = Label(gui, text = \"CALENDAR\", bg = \"dark gray\", \n",
    "\t\t\t\t\t\t\tfont = (\"times\", 28, 'bold')) \n",
    "\n",
    "\t# Create a Enter Year : label \n",
    "\tyear = Label(gui, text = \"Enter Year\", bg = \"light green\") \n",
    "\t\n",
    "\t# Create a text entry box for filling or typing the information. \n",
    "\tyear_field = Entry(gui) \n",
    "\n",
    "\t# Create a Show Calendar Button and attached to showCal function \n",
    "\tShow = Button(gui, text = \"Show Calendar\", fg = \"Black\", \n",
    "\t\t\t\t\t\t\tbg = \"Red\", command = showCal) \n",
    "\n",
    "\t# Create a Exit Button and attached to exit function \n",
    "\tExit = Button(gui, text = \"Exit\", fg = \"Black\", bg = \"Red\", command = exit) \n",
    "\t\n",
    "\t# grid method is used for placing \n",
    "\t# the widgets at respective positions \n",
    "\t# in table like structure. \n",
    "\tcal.grid(row = 1, column = 1) \n",
    "\n",
    "\tyear.grid(row = 2, column = 1) \n",
    "\n",
    "\tyear_field.grid(row = 3, column = 1) \n",
    "\n",
    "\tShow.grid(row = 4, column = 1) \n",
    "\n",
    "\tExit.grid(row = 6, column = 1) \n",
    "\t\n",
    "\t# start the GUI \n",
    "\tgui.mainloop() \n",
    "\t\n",
    "\n"
   ]
  },
  {
   "cell_type": "markdown",
   "metadata": {},
   "source": [
    "<html>\n",
    "<body>\n",
    "<img src=\"Screenshot from 2020-03-11 23-47-01.png\"></body>\n",
    "</html>"
   ]
  },
  {
   "cell_type": "markdown",
   "metadata": {},
   "source": [
    "9.Create 10 different shapes using Canvas class with User interface along with menu option."
   ]
  },
  {
   "cell_type": "code",
   "execution_count": 18,
   "metadata": {},
   "outputs": [],
   "source": [
    "from tkinter import *\n",
    "from tkinter import messagebox\n",
    "root=Tk()\n",
    "c=Canvas(root,bg='white',height=250,width=300)\n",
    "#coor=\n",
    "c.create_arc(10,50,240,210,fill='red')\n",
    "c.create_line(10,20,30,400)\n",
    "c.create_polygon(10,20,50,70,100,200,304,56)\n",
    "c.create_oval(50,50,100,100, fill='red')\n",
    "c.pack()\n",
    "root.mainloop()"
   ]
  },
  {
   "cell_type": "markdown",
   "metadata": {},
   "source": [
    "<html>\n",
    "<body>\n",
    "<img src=\"Screenshot from 2020-03-11 23-49-35.png\"></body>\n",
    "</html>"
   ]
  },
  {
   "cell_type": "markdown",
   "metadata": {},
   "source": [
    "10.Using tkinter, upload the picture into the application using button.  "
   ]
  },
  {
   "cell_type": "code",
   "execution_count": 20,
   "metadata": {},
   "outputs": [],
   "source": [
    "from tkinter import *\n",
    "from PIL import Image, ImageTk\n",
    "root = Tk()\n",
    "def Click():\n",
    " image = Image.open(\"moc.jpg\")\n",
    " photo = ImageTk.PhotoImage(image)\n",
    " label = Label(root,image=photo)\n",
    " label.image = photo\n",
    " label.pack()\n",
    "labelframe = LabelFrame(root)\n",
    "labelframe.pack(fill=\"both\", expand=\"yes\")\n",
    "left = Label(labelframe)\n",
    "button=Button(labelframe, padx = 5, pady = 5, text=\"Click Here\",command = Click)\n",
    "button.pack(side = RIGHT)\n",
    "left.pack()\n",
    "root.mainloop()"
   ]
  },
  {
   "cell_type": "markdown",
   "metadata": {},
   "source": [
    "<html>\n",
    "<body>\n",
    "<img src=\"Screenshot from 2020-03-11 23-55-03.png\"></body>\n",
    "</html>"
   ]
  }
 ],
 "metadata": {
  "kernelspec": {
   "display_name": "Python 3",
   "language": "python",
   "name": "python3"
  },
  "language_info": {
   "codemirror_mode": {
    "name": "ipython",
    "version": 3
   },
   "file_extension": ".py",
   "mimetype": "text/x-python",
   "name": "python",
   "nbconvert_exporter": "python",
   "pygments_lexer": "ipython3",
   "version": "3.6.9"
  }
 },
 "nbformat": 4,
 "nbformat_minor": 2
}
