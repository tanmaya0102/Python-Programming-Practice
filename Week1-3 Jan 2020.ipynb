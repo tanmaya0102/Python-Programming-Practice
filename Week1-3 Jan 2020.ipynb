{
 "cells": [
  {
   "cell_type": "code",
   "execution_count": 6,
   "metadata": {
    "scrolled": true
   },
   "outputs": [
    {
     "name": "stdout",
     "output_type": "stream",
     "text": [
      "Enter your name:Tanmaya\n",
      "Enter your age:18\n",
      "Dear Tanmaya,you will turn 100 years old in year 2101\n"
     ]
    }
   ],
   "source": [
    "#Program1\n",
    "x=str(input(\"Enter your name:\"))\n",
    "age=int(input(\"Enter your age:\"))\n",
    "z=100-age\n",
    "y=2020+z\n",
    "print(\"Dear \"+x+\",you will turn 100 years old in year\",y-1)"
   ]
  },
  {
   "cell_type": "code",
   "execution_count": 2,
   "metadata": {},
   "outputs": [
    {
     "name": "stdout",
     "output_type": "stream",
     "text": [
      "Area Calculator\n",
      "\n",
      "Enter the radius of the circle:1.1\n",
      "The Area of the circle is  3.4571428571428577\n"
     ]
    }
   ],
   "source": [
    "#Program 2\n",
    "print(\"Area Calculator\\n\")\n",
    "x=float(input(\"Enter the radius of the circle:\"))\n",
    "y=(22*x)/7\n",
    "print(\"The Area of the circle is \",y)"
   ]
  },
  {
   "cell_type": "code",
   "execution_count": 5,
   "metadata": {},
   "outputs": [
    {
     "name": "stdout",
     "output_type": "stream",
     "text": [
      "Enter your full name:Tanmaya Harichandan\n",
      "ayamnaT nadnahciraH\n"
     ]
    }
   ],
   "source": [
    "#Program 3\n",
    "fn,ln=str(input(\"Enter your full name:\")).split()\n",
    "fn=fn[::-1]\n",
    "ln=ln[::-1]\n",
    "print(fn,ln)"
   ]
  },
  {
   "cell_type": "code",
   "execution_count": 6,
   "metadata": {},
   "outputs": [
    {
     "name": "stdout",
     "output_type": "stream",
     "text": [
      "Volume of Sphere Calculator\n",
      "Enter the radius of the sphere:3\n",
      "The Volume is: 113.14285714285714\n"
     ]
    }
   ],
   "source": [
    "#Program 4\n",
    "print(\"Volume of Sphere Calculator\")\n",
    "x=float(input(\"Enter the radius of the sphere:\"))\n",
    "vol=(4*22*x*x*x)/21\n",
    "print(\"The Volume is:\",vol)"
   ]
  },
  {
   "cell_type": "code",
   "execution_count": 1,
   "metadata": {},
   "outputs": [
    {
     "name": "stdout",
     "output_type": "stream",
     "text": [
      "Enter Day of the week:3\n",
      "The Day of the week:Wednesday\n",
      "Enter the future day to be jumped:3\n",
      "The Future Day is:Saturday\n"
     ]
    }
   ],
   "source": [
    "#Program 5\n",
    "x=int(input(\"Enter Day of the week:\"))\n",
    "if x==0:\n",
    "    day_of_week = \"Sunday\"\n",
    "elif x==1:\n",
    "    day_of_week = \"Monday\"\n",
    "elif x==2:\n",
    "    day_of_week = \"Tuesday\"\n",
    "elif x==3:\n",
    "    day_of_week = \"Wednesday\"\n",
    "elif x==4:\n",
    "    day_of_week = \"Thursday\"\n",
    "elif x==5:\n",
    "    day_of_week = \"Friday\"\n",
    "elif x==6:\n",
    "    day_of_week = \"Saturday\";\n",
    "print(\"The Day of the week:\"+day_of_week)\n",
    "y=int(input(\"Enter the future day to be jumped:\"))\n",
    "future=(x+y)%7\n",
    "if future==0:\n",
    "    day_of_week = \"Sunday\"\n",
    "elif future==1:\n",
    "    day_of_week = \"Monday\"\n",
    "elif future==2:\n",
    "    day_of_week = \"Tuesday\"\n",
    "elif future==3:\n",
    "    day_of_week = \"Wednesday\"\n",
    "elif future==4:\n",
    "    day_of_week = \"Thursday\"\n",
    "elif future==5:\n",
    "    day_of_week = \"Friday\"\n",
    "elif future==6:\n",
    "    day_of_week = \"Saturday\"\n",
    "print(\"The Future Day is:\"+day_of_week)\n",
    "\n",
    "        "
   ]
  },
  {
   "cell_type": "code",
   "execution_count": 1,
   "metadata": {
    "scrolled": true
   },
   "outputs": [
    {
     "name": "stdout",
     "output_type": "stream",
     "text": [
      "Greatest of three numbers\n",
      "\n",
      "Enter the first number:34\n",
      "Enter the second number:63\n",
      "Enter the third number:23\n",
      "23   34   63\n"
     ]
    }
   ],
   "source": [
    "#Program 6\n",
    "print(\"Greatest of three numbers\\n\")\n",
    "x=int(input(\"Enter the first number:\"))\n",
    "y=int(input(\"Enter the second number:\"))\n",
    "z=int(input(\"Enter the third number:\"))\n",
    "if x>y and x>z:\n",
    "    g1=x\n",
    "    if y>z:\n",
    "        g2=y\n",
    "        g3=z\n",
    "    else:\n",
    "        g2=z\n",
    "        g3=y\n",
    "elif y>x and y>z:\n",
    "    g1=y\n",
    "    if x>z:\n",
    "        g2=x\n",
    "        g3=z\n",
    "    else:\n",
    "        g2=z\n",
    "        g3=x\n",
    "elif z>x and z>y:\n",
    "    g1=z\n",
    "    if x>y:\n",
    "        g2=x\n",
    "        g3=y\n",
    "    else:\n",
    "        g2=y\n",
    "        g3=x\n",
    "\n",
    "print(g3,\" \",g2,\" \",g1)\n",
    "    "
   ]
  },
  {
   "cell_type": "code",
   "execution_count": 3,
   "metadata": {},
   "outputs": [
    {
     "name": "stdout",
     "output_type": "stream",
     "text": [
      "1  \n",
      "\n",
      "2  2  \n",
      "\n",
      "3  3  3  \n",
      "\n",
      "4  4  4  4  \n",
      "\n",
      "5  5  5  5  5  \n",
      "\n"
     ]
    }
   ],
   "source": [
    "#Program 7\n",
    "for x in range(1,6):\n",
    "    y=x\n",
    "    for y in range(0,x):\n",
    "        print(x,\" \",end=\"\")\n",
    "    print(\"\\n\")"
   ]
  },
  {
   "cell_type": "code",
   "execution_count": 1,
   "metadata": {},
   "outputs": [
    {
     "name": "stdout",
     "output_type": "stream",
     "text": [
      "Number Palindrome Checker\n",
      "Enter the number:232\n",
      "true\n"
     ]
    }
   ],
   "source": [
    "#Program 8\n",
    "print(\"Number Palindrome Checker\")\n",
    "x=int(input(\"Enter the number:\"))\n",
    "t=x\n",
    "r=0\n",
    "while x>0:\n",
    "    s=int(x%10)\n",
    "    r=r*10+s\n",
    "    x=int(x/10)\n",
    "\n",
    "if r==t:\n",
    "    print(\"true\")\n",
    "else:\n",
    "    print(\"false\")"
   ]
  },
  {
   "cell_type": "code",
   "execution_count": 33,
   "metadata": {},
   "outputs": [
    {
     "name": "stdout",
     "output_type": "stream",
     "text": [
      "Enter number of elements:5\n",
      "1\n",
      "3\n",
      "4\n",
      "5\n",
      "7\n",
      "Even lists: [4]\n",
      "Odd lists: [1, 3, 5, 7]\n"
     ]
    }
   ],
   "source": [
    "#Program 9\n",
    "def Split(mix): \n",
    "    even= [] \n",
    "    odd = [] \n",
    "    for i in mix: \n",
    "        if (i % 2 == 0): \n",
    "            even.append(i) \n",
    "        else: \n",
    "            odd.append(i) \n",
    "    print(\"Even lists:\", even) \n",
    "    print(\"Odd lists:\", odd)\n",
    "    \n",
    "mix=[]    \n",
    "n =int(input(\"Enter number of elements:\")) \n",
    "for i in range(0, n): \n",
    "    ele= int(input())\n",
    "    mix.append(ele)\n",
    "Split(mix)"
   ]
  },
  {
   "cell_type": "code",
   "execution_count": 35,
   "metadata": {},
   "outputs": [
    {
     "name": "stdout",
     "output_type": "stream",
     "text": [
      "Enter your string:Emma is good developer. Emma is also a writer\n",
      "Emma occurs 2 times.\n"
     ]
    }
   ],
   "source": [
    "#Program 10\n",
    "x=str(input(\"Enter your string:\"))\n",
    "count=0\n",
    "for i in range(len(x)-1):\n",
    "    count +=x[i:i+4] =='Emma'\n",
    "print(\"Emma occurs\",count,\"times.\")"
   ]
  },
  {
   "cell_type": "code",
   "execution_count": 3,
   "metadata": {},
   "outputs": [
    {
     "name": "stdout",
     "output_type": "stream",
     "text": [
      "Enter your number:2\n",
      "Postive numbers entered till now: 1\n",
      "Negative numbers entered till now: 0\n",
      "Enter your number:-3\n",
      "Postive numbers entered till now: 1\n",
      "Negative numbers entered till now: 1\n",
      "Enter your number:4\n",
      "Postive numbers entered till now: 2\n",
      "Negative numbers entered till now: 1\n",
      "Enter your number:5\n",
      "Postive numbers entered till now: 3\n",
      "Negative numbers entered till now: 1\n",
      "Enter your number:-7\n",
      "Postive numbers entered till now: 3\n",
      "Negative numbers entered till now: 2\n",
      "Enter your number:3\n",
      "Postive numbers entered till now: 4\n",
      "Negative numbers entered till now: 2\n",
      "Enter your number:0\n",
      "Postive numbers entered till now: 4\n",
      "Negative numbers entered till now: 2\n",
      "Total of numbers entered: 4\n",
      "Average of numbers entered: 0.5714285714285714\n"
     ]
    }
   ],
   "source": [
    "#Program 11\n",
    "x=1\n",
    "totalnumber=0\n",
    "counter=0\n",
    "pos=0\n",
    "neg=0\n",
    "while x!=0:\n",
    "    x=int(input(\"Enter your number:\"))\n",
    "    if x>0:\n",
    "        pos=pos+1\n",
    "    elif x<0:\n",
    "        neg=neg+1\n",
    "        \n",
    "    totalnumber=totalnumber+x\n",
    "    counter=counter+1\n",
    "    print(\"Postive numbers entered till now:\",pos)\n",
    "    print(\"Negative numbers entered till now:\",neg)\n",
    "\n",
    "average=float(totalnumber/counter)\n",
    "print(\"Total of numbers entered:\",totalnumber)\n",
    "print(\"Average of numbers entered:\",average)"
   ]
  },
  {
   "cell_type": "code",
   "execution_count": 3,
   "metadata": {},
   "outputs": [
    {
     "name": "stdout",
     "output_type": "stream",
     "text": [
      "Tuition cost after 10 years is 16288.946267774414 .Four years of tuition cost is 73717.76425901074\n"
     ]
    }
   ],
   "source": [
    "#Program 12\n",
    "tuition=10000.00\n",
    "yearlypercentage=0.05\n",
    "tuitioninten=0.0\n",
    "fouryear=0.0\n",
    "for i in range(0,14):\n",
    "    tuition+=tuition*yearlypercentage\n",
    "    if i==9:\n",
    "        tuitioninten=tuition\n",
    "    if i==10 or i==11 or i==12 or i==13:\n",
    "        fouryear+=tuition\n",
    "\n",
    "print(\"Tuition cost after 10 years is\",tuitioninten,\".Four years of tuition cost is\",fouryear)"
   ]
  },
  {
   "cell_type": "code",
   "execution_count": 4,
   "metadata": {},
   "outputs": [
    {
     "name": "stdout",
     "output_type": "stream",
     "text": [
      "\n",
      "Enter the number of students:4\n",
      "\n",
      "Enter student's name: Tanmaya\n",
      "\n",
      "Enter student's score: 90\n",
      "\n",
      "Enter student's name: Abhinav\n",
      "\n",
      "Enter student's score: 91\n",
      "\n",
      "Enter student's name: Vaibhav\n",
      "\n",
      "Enter student's score: 89\n",
      "\n",
      "Enter student's name: Jugal\n",
      "\n",
      "Enter student's score: 89\n",
      "\n",
      "\n",
      "First place\n",
      "Abhinav 91 \n",
      "\n",
      "Second place\n",
      "Tanmaya 90 \n",
      "\n"
     ]
    }
   ],
   "source": [
    "#Program 13\n",
    "number_of_students = int(input(\"\\nEnter the number of students:\"))\n",
    "\n",
    "# set the student 'Nobody' just for clarity\n",
    "current_student = (\"Nobody\", 0)\n",
    "\n",
    "first_place = [current_student]\n",
    "second_place = [current_student]\n",
    "\n",
    "while number_of_students > 0:\n",
    "    name = input(\"\\nEnter student's name: \")\n",
    "    score = input(\"\\nEnter student's score: \")\n",
    "\n",
    "    if not name or not score:\n",
    "        break\n",
    "\n",
    "    score = int(score)\n",
    "    current_student = (name, score)\n",
    "\n",
    "    # retrieve the two highest scorers from lists\n",
    "    first_score = first_place[0][1]\n",
    "    second_score = second_place[0][1]\n",
    "\n",
    "    if score > first_score:\n",
    "        second_place = first_place\n",
    "        first_place= [current_student]\n",
    "\n",
    "    elif score == first_score:\n",
    "        first_place.append(current_student)\n",
    "\n",
    "    elif score > second_score:\n",
    "        second_place = [current_student]\n",
    "\n",
    "    elif score == second_score:\n",
    "        second_place.append(current_student)\n",
    "\n",
    "    number_of_students-=1\n",
    "\n",
    "\n",
    "print(\"\\n\\nFirst place\")\n",
    "for name, score in first_place:\n",
    "    print(name, score, end=\" \")\n",
    "\n",
    "print(\"\\n\\nSecond place\")\n",
    "for name, score in second_place:\n",
    "    print(name, score, end=\" \")\n",
    "\n",
    "print(\"\\n\")"
   ]
  },
  {
   "cell_type": "code",
   "execution_count": 9,
   "metadata": {},
   "outputs": [
    {
     "name": "stdout",
     "output_type": "stream",
     "text": [
      "120   150   180   210   240   270   300   330   360   390   \n",
      "\n",
      "420   450   480   510   540   570   600   630   660   690   \n",
      "\n",
      "720   750   780   810   840   870   900   930   960   990   \n",
      "\n"
     ]
    }
   ],
   "source": [
    "#Program 14\n",
    "counter=0\n",
    "for i in range(100,1001):\n",
    "    if i % 5==0 and i % 6==0:\n",
    "        print(i,\" \",end=\" \")\n",
    "        counter=counter+1\n",
    "        \n",
    "    if counter==10:\n",
    "        print(\"\\n\")\n",
    "        counter=0\n",
    "        "
   ]
  },
  {
   "cell_type": "code",
   "execution_count": 17,
   "metadata": {},
   "outputs": [
    {
     "name": "stdout",
     "output_type": "stream",
     "text": [
      "Enter the number:120\n",
      "2 2 2 3 5 "
     ]
    }
   ],
   "source": [
    "#Program 15\n",
    "import math \n",
    "  \n",
    "def primeFactors(n): \n",
    "      \n",
    "    \n",
    "    while n % 2 == 0: \n",
    "        print(\"2\",end=\" \") \n",
    "        n = n / 2\n",
    "          \n",
    "\n",
    "    for i in range(3,int(math.sqrt(n))+1,2): \n",
    "          \n",
    "        while n % i== 0: \n",
    "            print(i,end=\" \") \n",
    "            n = n / i \n",
    "              \n",
    "    \n",
    "    if n > 2: \n",
    "        print(int(n),end=\" \") \n",
    "          \n",
    "\n",
    "  \n",
    "x=int(input(\"Enter the number:\"))\n",
    "primeFactors(x) \n"
   ]
  },
  {
   "cell_type": "code",
   "execution_count": 36,
   "metadata": {},
   "outputs": [
    {
     "name": "stdout",
     "output_type": "stream",
     "text": [
      "Enter number of students:5\n",
      "Enter the scores:\n",
      "23\n",
      "43\n",
      "55\n",
      "22\n",
      "54\n",
      "Highest score is: 55\n"
     ]
    }
   ],
   "source": [
    "#Program 16\n",
    "import ast\n",
    "n=int(input(\"Enter number of students:\"))\n",
    "score=[]\n",
    "print(\"Enter the scores:\")\n",
    "for i in range(0,n):\n",
    "    x=int(input())\n",
    "    score.append(x)\n",
    "score=str(score)\n",
    "file = open('score.txt','w') \n",
    "file.write(score) \n",
    "file.close()\n",
    "with open('score.txt') as f:\n",
    "    lineList = ast.literal_eval(f.read())\n",
    "lineList.sort()\n",
    "print(\"Highest score is:\",lineList[-1])\n",
    "    "
   ]
  },
  {
   "cell_type": "code",
   "execution_count": null,
   "metadata": {},
   "outputs": [],
   "source": []
  }
 ],
 "metadata": {
  "kernelspec": {
   "display_name": "Python 3",
   "language": "python",
   "name": "python3"
  },
  "language_info": {
   "codemirror_mode": {
    "name": "ipython",
    "version": 3
   },
   "file_extension": ".py",
   "mimetype": "text/x-python",
   "name": "python",
   "nbconvert_exporter": "python",
   "pygments_lexer": "ipython3",
   "version": "3.6.9"
  }
 },
 "nbformat": 4,
 "nbformat_minor": 2
}
