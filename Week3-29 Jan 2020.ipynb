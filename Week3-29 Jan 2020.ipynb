{
 "cells": [
  {
   "cell_type": "code",
   "execution_count": 14,
   "metadata": {
    "scrolled": true
   },
   "outputs": [
    {
     "name": "stdout",
     "output_type": "stream",
     "text": [
      "***Book Store Data Entry Terminal***\n",
      "Enter the number of books data entry to be done:2\n",
      "Enter the Title of the book:Programming In Java\n",
      "Enter the Author of the book:E.Balagurusamy\n",
      "Enter the Publisher of the book:Mc.Graw Hill\n",
      "Enter the Price of the book:300\n",
      "Enter the Title of the book:Programming Paradigm\n",
      "Enter the Author of the book:Elad Shalom\n",
      "Enter the Publisher of the book:Amazon Book\n",
      "Enter the Price of the book:250\n",
      "***Book Details***\n",
      "Title of the book: Programming In Java\n",
      "Author of the book: E.Balagurusamy\n",
      "Publisher of the book: Mc.Graw Hill\n",
      "Price of the book: 300\n",
      "***Book Details***\n",
      "Title of the book: Programming Paradigm\n",
      "Author of the book: Elad Shalom\n",
      "Publisher of the book: Amazon Book\n",
      "Price of the book: 250\n",
      "Number of Books Entered: 2\n"
     ]
    }
   ],
   "source": [
    "#Program 1\n",
    "class BookStore:\n",
    "    \n",
    "    def __init__(self,title,author,publisher,price):\n",
    "        self.title=title\n",
    "        self.author=author\n",
    "        self.publisher=publisher\n",
    "        self.price=price\n",
    "    def Bookinfo(self):\n",
    "        print(\"***Book Details***\")\n",
    "        print(\"Title of the book:\",self.title)\n",
    "        print(\"Author of the book:\",self.author)\n",
    "        print(\"Publisher of the book:\",self.publisher)\n",
    "        print(\"Price of the book:\",self.price)\n",
    "        \n",
    "print(\"***Book Store Data Entry Terminal***\")\n",
    "x=int(input(\"Enter the number of books data entry to be done:\"))\n",
    "booklist=[]\n",
    "noofbooks=0\n",
    "for i in range(x):\n",
    "    t=input(\"Enter the Title of the book:\")\n",
    "    a=input(\"Enter the Author of the book:\")\n",
    "    p=input(\"Enter the Publisher of the book:\")\n",
    "    c=input(\"Enter the Price of the book:\")\n",
    "    booklist.append(BookStore(t,a,p,c))\n",
    "    noofbooks+=1\n",
    "for j in booklist:\n",
    "    j.Bookinfo()\n",
    "    \n",
    "print(\"Number of Books Entered:\",noofbooks)\n",
    "\n",
    "        \n",
    "    "
   ]
  },
  {
   "cell_type": "code",
   "execution_count": 47,
   "metadata": {},
   "outputs": [
    {
     "name": "stdout",
     "output_type": "stream",
     "text": [
      "Enter the first complex number's real and imaginary part:2 1\n",
      "Enter the second complex number's real and imaginary part:5 6\n",
      "7.0+7.0i\n",
      "-3.0-5.0i\n",
      "4.0+17.0i\n",
      "0.26-0.11i\n",
      "2.24+0.00i\n",
      "7.81+0.00i\n"
     ]
    }
   ],
   "source": [
    "#Program 2\n",
    "import cmath\n",
    "x,y=input(\"Enter 32.the first complex number's real and imaginary part:\").split()\n",
    "a,b=input(\"Enter the second complex number's real and imaginary part:\").split()\n",
    "x=float(x)\n",
    "y=float(y)\n",
    "a=float(a)\n",
    "b=float(b)\n",
    "c1=complex(x,y)\n",
    "c2=complex(a,b)\n",
    "print(str(c1.real+c2.real)+\"+\"+str(c1.imag+c2.imag)+\"i\")\n",
    "if c1.imag-c2.imag>0:\n",
    "    print(str(c1.real-c2.real)+\"+\"+str(c1.imag-c2.imag)+\"i\")\n",
    "else:\n",
    "    print(str(c1.real-c2.real)+str(c1.imag-c2.imag)+\"i\")\n",
    "print(str((c1.real*c2.real)-(c1.imag*c2.imag))+\"+\"+str((c1.real*c2.imag)+(c1.imag*c2.real))+\"i\")\n",
    "c3=c1/c2\n",
    "if c3.imag>0:\n",
    "    print(str(round(c3.real,2))+\"+\"+str(round(c3.imag,2))+\"i\")\n",
    "else:\n",
    "     print(str(round(c3.real,2))+str(round(c3.imag,2))+\"i\")\n",
    "print(str(\"%0.2f\" %abs(c1))+\"+0.00i\")\n",
    "print(str(\"%0.2f\" %abs(c2))+\"+0.00i\")"
   ]
  },
  {
   "cell_type": "code",
   "execution_count": 49,
   "metadata": {},
   "outputs": [
    {
     "name": "stdout",
     "output_type": "stream",
     "text": [
      "Enter the number:24\n",
      "Not Weird\n"
     ]
    }
   ],
   "source": [
    "#Program 3\n",
    "n=int(input(\"Enter the number:\"))\n",
    "if n%2!=0:\n",
    "    print(\"Weird\")\n",
    "elif n%2==0:\n",
    "    if n>=2 and n<=5:\n",
    "        print(\"Not Weird\")\n",
    "    elif n>5 and n<=20:\n",
    "        print(\"Weird\")\n",
    "    elif n>20:\n",
    "        print(\"Not Weird\")"
   ]
  },
  {
   "cell_type": "code",
   "execution_count": 2,
   "metadata": {},
   "outputs": [
    {
     "name": "stdout",
     "output_type": "stream",
     "text": [
      "Enter the first point:0 4 5\n",
      "Enter the second point:1 7 6\n",
      "Enter the third point:0 5 9\n",
      "Enter the fourth point1 7 2\n",
      "Torsional Angle:8.19\n"
     ]
    }
   ],
   "source": [
    "#Program 4\n",
    "import math\n",
    "class point():\n",
    "    pass\n",
    "class line():\n",
    "    pass\n",
    "\n",
    "A = point()\n",
    "A.x,A.y,A.z = [float(i) for i in input(\"Enter the first point:\").split()]\n",
    "B = point()\n",
    "B.x,B.y,B.z = [float(i) for i in input(\"Enter the second point:\").split()]\n",
    "C = point()\n",
    "C.x,C.y,C.z = [float(i) for i in input(\"Enter the third point:\").split()]\n",
    "D = point()\n",
    "D.x,D.y,D.z = [float(i) for i in input(\"Enter the fourth point\").split()]\n",
    "\n",
    "AB = line()\n",
    "AB.x,AB.y,AB.z = B.x-A.x,B.y-A.y,B.z-A.z\n",
    "BC = line()\n",
    "BC.x,BC.y,BC.z = C.x-B.x,C.y-B.y,C.z-B.z\n",
    "CD = line()\n",
    "CD.x,CD.y,CD.z = D.x-C.x,D.y-C.y,D.z-C.z\n",
    "\n",
    "X = line()\n",
    "X.x,X.y,X.z = AB.y*BC.z-AB.z*BC.y, AB.x*BC.z-AB.z*BC.x, AB.x*BC.y-AB.y*BC.x\n",
    "Y = line()\n",
    "Y.x,Y.y,Y.z = BC.y*CD.z-BC.z*CD.y, BC.x*CD.z-BC.z*CD.x, BC.x*CD.y-BC.y*CD.x\n",
    "\n",
    "cosphi = (X.x*Y.x+X.y*Y.y+X.z*Y.z)/math.sqrt(X.x**2+X.y**2+X.z**2)/math.sqrt(Y.x**2+Y.y**2+Y.z**2)\n",
    "\n",
    "phi = math.acos(cosphi)\n",
    "\n",
    "print(\"Torsional Angle:{:.2f}\".format(math.degrees(phi)))"
   ]
  },
  {
   "cell_type": "code",
   "execution_count": 3,
   "metadata": {},
   "outputs": [
    {
     "name": "stdout",
     "output_type": "stream",
     "text": [
      "Enter the string:AABCAAADA\n",
      "Enter the substring length:3\n",
      "AB\n",
      "CA\n",
      "AD\n"
     ]
    }
   ],
   "source": [
    "#Program 5\n",
    "s = input(\"Enter the string:\")\n",
    "k = int(input(\"Enter the substring length:\"))\n",
    "\n",
    "i = 0\n",
    "map, to_print = {}, \"\"\n",
    "while i < len(s):\n",
    "    if i % k == 0 and i != 0:\n",
    "        print(to_print)\n",
    "        map, to_print = {}, \"\"\n",
    "    if s[i] not in map.keys():\n",
    "        map[s[i]] = 0\n",
    "        to_print += s[i]\n",
    "    i += 1\n",
    "print(to_print)"
   ]
  },
  {
   "cell_type": "code",
   "execution_count": 4,
   "metadata": {},
   "outputs": [
    {
     "name": "stdout",
     "output_type": "stream",
     "text": [
      "Enter the year:1990\n",
      "False\n"
     ]
    }
   ],
   "source": [
    "#Program 6\n",
    "def is_leap(year):\n",
    "    leap = False\n",
    "    if(year%4!=0):\n",
    "        leap = False\n",
    "    elif(year%4==0 and year%100==0 and year%400!=0):\n",
    "        leap = False\n",
    "    else:\n",
    "        leap = True\n",
    "    return leap\n",
    "year = int(input(\"Enter the year:\"))\n",
    "print(is_leap(year))"
   ]
  },
  {
   "cell_type": "code",
   "execution_count": 5,
   "metadata": {},
   "outputs": [
    {
     "name": "stdout",
     "output_type": "stream",
     "text": [
      "Enter the array elements:1 2 3 4 5\n",
      "10 14\n"
     ]
    }
   ],
   "source": [
    "#Program 7\n",
    "a = input(\"Enter the array elements:\").strip().split(' ')\n",
    "for i in range(0, len(a)):\n",
    "    a[i] = int(a[i])\n",
    "    \n",
    "s = sum(a)\n",
    "print(str(s - max(a)) + \" \" + str(s - min(a)))"
   ]
  },
  {
   "cell_type": "code",
   "execution_count": 6,
   "metadata": {},
   "outputs": [
    {
     "name": "stdout",
     "output_type": "stream",
     "text": [
      "Enter the number:5\n",
      "--------e--------\n",
      "------e-d-e------\n",
      "----e-d-c-d-e----\n",
      "--e-d-c-b-c-d-e--\n",
      "e-d-c-b-a-b-c-d-e\n",
      "--e-d-c-b-c-d-e--\n",
      "----e-d-c-d-e----\n",
      "------e-d-e------\n",
      "--------e--------\n"
     ]
    }
   ],
   "source": [
    "#Program 8\n",
    "n=int(input(\"Enter the number:\"))\n",
    "for i in range(n-1,-1,-1):\n",
    "    for j in range(i):\n",
    "        print(end=\"--\")\n",
    "    for j in range(n-1,i,-1):\n",
    "        print(chr(j+97),end=\"-\")\n",
    "    for j in range(i,n):\n",
    "        if j != n-1:\n",
    "            print(chr(j+97),end=\"-\")\n",
    "        else:\n",
    "            print(chr(j+97),end=\"\")\n",
    "    for j in range(2*i):\n",
    "        print(end=\"-\")\n",
    "    print()\n",
    "for i in range(1,n):\n",
    "    for j in range(i):\n",
    "        print(end=\"--\")\n",
    "    for j in range(n-1,i,-1):\n",
    "        print(chr(j+97),end=\"-\")\n",
    "    for j in range(i,n):\n",
    "        if j != n-1:\n",
    "            print(chr(j+97),end=\"-\")\n",
    "        else:\n",
    "            print(chr(j+97),end=\"\")\n",
    "    for j in range(2*i):\n",
    "        print(end=\"-\")\n",
    "    print()\n",
    "\n"
   ]
  },
  {
   "cell_type": "code",
   "execution_count": 7,
   "metadata": {},
   "outputs": [
    {
     "name": "stdout",
     "output_type": "stream",
     "text": [
      "Enter the string:BANANA\n",
      "Stuart 12\n"
     ]
    }
   ],
   "source": [
    "#Program 9\n",
    "input_string =input(\"Enter the string:\").strip()\n",
    "list1=list(input_string)\n",
    "string = \"\"\n",
    "stuart = 0\n",
    "kevin = 0\n",
    "\n",
    "for i in range (0,len(list1)):\n",
    "    if list1[i] in ['a','e','i','o','u','A','E','I','O','U'] :\n",
    "        kevin = kevin +  len(list1) - (i+1) + 1\n",
    "    else : \n",
    "        stuart = stuart + len(list1) - (i+1) + 1\n",
    "if kevin > stuart :\n",
    "    print (\"Kevin\", kevin)\n",
    "elif kevin == stuart :\n",
    "    print (\"Draw\")\n",
    "else :\n",
    "\n",
    "    print (\"Stuart\", stuart)\n"
   ]
  },
  {
   "cell_type": "code",
   "execution_count": 8,
   "metadata": {},
   "outputs": [
    {
     "name": "stdout",
     "output_type": "stream",
     "text": [
      "Enter s and t:7 11\n",
      "Enter a and b:5 15\n",
      "Enter m and n:3 2\n",
      "-2 2 1\n",
      "5 -6\n",
      "1\n",
      "1\n"
     ]
    }
   ],
   "source": [
    "#Program 10\n",
    "import sys\n",
    "\n",
    "\n",
    "s,t = input(\"Enter s and t:\").strip().split(' ')\n",
    "s,t = [int(s),int(t)]\n",
    "a,b = input(\"Enter a and b:\").strip().split(' ')\n",
    "a,b = [int(a),int(b)]\n",
    "m,n = input(\"Enter m and n:\").strip().split(' ')\n",
    "m,n = [int(m),int(n)]\n",
    "apple = [int(apple_temp) for apple_temp in input().strip().split(' ')]\n",
    "orange = [int(orange_temp) for orange_temp in input().strip().split(' ')]\n",
    "\n",
    "count = 0\n",
    "for i in range(len(apple)):\n",
    "    if (a+apple[i])>=s and (a+apple[i])<=t:\n",
    "        count += 1\n",
    "print(count)\n",
    "count = 0\n",
    "for i in range(len(orange)):\n",
    "    if (b+orange[i])>=s and (b+orange[i])<=t:\n",
    "        count += 1\n",
    "print(count)\n"
   ]
  },
  {
   "cell_type": "code",
   "execution_count": null,
   "metadata": {},
   "outputs": [],
   "source": [
    "698+*-"
   ]
  }
 ],
 "metadata": {
  "kernelspec": {
   "display_name": "Python 3",
   "language": "python",
   "name": "python3"
  },
  "language_info": {
   "codemirror_mode": {
    "name": "ipython",
    "version": 3
   },
   "file_extension": ".py",
   "mimetype": "text/x-python",
   "name": "python",
   "nbconvert_exporter": "python",
   "pygments_lexer": "ipython3",
   "version": "3.6.9"
  }
 },
 "nbformat": 4,
 "nbformat_minor": 2
}
