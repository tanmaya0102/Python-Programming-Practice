{
 "cells": [
  {
   "cell_type": "code",
   "execution_count": 38,
   "metadata": {},
   "outputs": [
    {
     "name": "stdout",
     "output_type": "stream",
     "text": [
      "Enter size of the array:5\n",
      "Enter the array elements:2 2 1 3 2\n",
      "Enter day and month:4 2\n",
      "[2, 2]\n",
      "[1, 3]\n"
     ]
    }
   ],
   "source": [
    "#Program 1\n",
    "def fun():\n",
    "    n = int(input(\"Enter size of the array:\"))\n",
    "    s = list(map(int, input(\"Enter the array elements:\").split()))\n",
    "    d, m = map(int, input(\"Enter day and month:\").split())\n",
    "    ans = 0\n",
    "    for i in range(n-m+1):\n",
    "        if (sum(s[i:i+m]) == d):\n",
    "            print(s[i:i+m])\n",
    "fun()"
   ]
  },
  {
   "cell_type": "code",
   "execution_count": 39,
   "metadata": {
    "scrolled": true
   },
   "outputs": [
    {
     "name": "stdout",
     "output_type": "stream",
     "text": [
      "Enter your array:1 1 2 2 3\n",
      "The most observed bird type: 1\n"
     ]
    }
   ],
   "source": [
    "#Program 2\n",
    "\n",
    "import sys\n",
    "from collections import Counter\n",
    "def bird():\n",
    "    types = list(map(int, input(\"Enter your array:\").split()))\n",
    "    freq = Counter(types)\n",
    "    print(\"The most observed bird type:\",max(freq, key=freq.get))\n",
    "bird()"
   ]
  },
  {
   "cell_type": "code",
   "execution_count": 1,
   "metadata": {},
   "outputs": [
    {
     "name": "stdout",
     "output_type": "stream",
     "text": [
      "Enter the prices:2 4 6\n",
      "Enter the price to be excluded:6\n",
      "Amount to be refunded: 3.0\n"
     ]
    }
   ],
   "source": [
    "#Program 3\n",
    "def Bill():\n",
    "    s=list(map(int,input(\"Enter the prices:\").split()))\n",
    "    n=0\n",
    "    sum=0\n",
    "    for x in s:\n",
    "        n=n+1\n",
    "    \n",
    "    for i in range(0,n):\n",
    "        sum=sum+s[i]\n",
    "    av=sum/2\n",
    "    ex=int(input(\"Enter the price to be excluded:\"))\n",
    "    for i in range(0,n):\n",
    "        if ex==s[i]:\n",
    "            temp=av*2-ex\n",
    "            newav=temp/2\n",
    "            print(\"Amount to be refunded:\",av-newav)\n",
    "\n",
    "Bill()\n"
   ]
  },
  {
   "cell_type": "code",
   "execution_count": 10,
   "metadata": {},
   "outputs": [
    {
     "name": "stdout",
     "output_type": "stream",
     "text": [
      "Enter the number of test cases:2\n",
      "Enter Array size and minimum students:4 3\n",
      "Enter the timings:-1 -3 4 2\n",
      "Yes,the Class is cancelled\n",
      "Enter Array size and minimum students:4 2\n",
      "Enter the timings:0 -1 2 1\n",
      "No,the Class is not cancelled\n"
     ]
    }
   ],
   "source": [
    "#Program 4\n",
    "x=int(input(\"Enter the number of test cases:\"))\n",
    "for y in range(0,x):\n",
    "    n,k = map(int, input(\"Enter Array size and minimum students:\").split())\n",
    "    arr = map(int, input(\"Enter the timings:\").split())\n",
    "    count = 0\n",
    "    for i in arr:\n",
    "        if i <= 0:\n",
    "            count += 1\n",
    "    if count < k:\n",
    "        print(\"Yes,the Class is cancelled\")\n",
    "    else:\n",
    "        print(\"No,the Class is not cancelled\")"
   ]
  },
  {
   "cell_type": "code",
   "execution_count": 18,
   "metadata": {},
   "outputs": [
    {
     "name": "stdout",
     "output_type": "stream",
     "text": [
      "Enter number of prisoners,number of sweets and chair number:4 6 2\n",
      "The Prisoner to be warned is 3\n"
     ]
    }
   ],
   "source": [
    "#Program 5\n",
    "    N,M,S=[int(j) for j in input(\"Enter number of prisoners,number of sweets and chair number:\").split()]\n",
    "    val= (N+M+S-1)%N\n",
    "    if val==0:\n",
    "        print(\"The Prisoner to be warned is\",N)\n",
    "    else:\n",
    "        print(\"The Prisoner to be warned is\", val)"
   ]
  },
  {
   "cell_type": "code",
   "execution_count": 5,
   "metadata": {},
   "outputs": [
    {
     "name": "stdout",
     "output_type": "stream",
     "text": [
      "Enter number of sticks:6 \n",
      "Enter the stick length:5 4 4 2 2 8\n",
      "Stick length after cutting:\n",
      "6\n",
      "4\n",
      "2\n",
      "1\n"
     ]
    }
   ],
   "source": [
    "#Program 6\n",
    "def solve():\n",
    "    nSticks = int(input(\"Enter number of sticks:\"))\n",
    "    stickLengths = [int(x) for x in input(\"Enter the stick length:\").split()]\n",
    "    cuts = 0\n",
    "    totalCutLength = 0\n",
    "    stickLengths = sorted(stickLengths)\n",
    "    i = 0\n",
    "    print(\"Stick length after cutting:\")\n",
    "    while i < len(stickLengths):\n",
    "        print(len(stickLengths)-i)\n",
    "        totalCutLength = stickLengths[i]\n",
    "        while i < len(stickLengths) and stickLengths[i] <= totalCutLength:\n",
    "            i += 1\n",
    "\n",
    "solve()"
   ]
  },
  {
   "cell_type": "code",
   "execution_count": 11,
   "metadata": {},
   "outputs": [
    {
     "name": "stdout",
     "output_type": "stream",
     "text": [
      "Enter number of clouds:7\n",
      "Enter the cloud number:0 0 1 0 0 1 0\n",
      "Minimum number of jumps: 4\n"
     ]
    }
   ],
   "source": [
    "#Program 7\n",
    "import sys\n",
    "n = int(input(\"Enter number of clouds:\"))\n",
    "c = list(map(int ,input(\"Enter the cloud number:\").split()))\n",
    "finished = False\n",
    "index = 0\n",
    "cpt = 0\n",
    "while not finished:\n",
    "    if index!= n-2 and c[index+2] == 0:\n",
    "        cpt += 1\n",
    "        index += 2\n",
    "    else:\n",
    "        index += 1\n",
    "        cpt +=1\n",
    "    if index == n-1:\n",
    "        finished = True\n",
    "print(\"Minimum number of jumps:\",cpt)"
   ]
  },
  {
   "cell_type": "code",
   "execution_count": 1,
   "metadata": {},
   "outputs": [
    {
     "name": "stdout",
     "output_type": "stream",
     "text": [
      "Enter array size and the difference:7 3\n",
      "Enter the numbers:1 2 4 5 7 8 10\n",
      "Number of beautiful triplets: 3\n"
     ]
    }
   ],
   "source": [
    "#Program 8\n",
    "n, d = map(int ,input(\"Enter array size and the difference:\").split())\n",
    "a = list(map(int ,input(\"Enter the numbers:\").split()))\n",
    "ans = 0\n",
    "for i in range(n):\n",
    "    found = 0\n",
    "    for j in range(i + 1, min(i + d + d + 1, n)):\n",
    "        if a[j] - a[i] == d:\n",
    "            found=found+1\n",
    "        if a[j] - a[i] == d + d:\n",
    "            found = found + 1\n",
    "    if found == 2:\n",
    "        ans = ans + 1 \n",
    "print (\"Number of beautiful triplets:\",ans)"
   ]
  },
  {
   "cell_type": "code",
   "execution_count": 12,
   "metadata": {},
   "outputs": [
    {
     "name": "stdout",
     "output_type": "stream",
     "text": [
      "Enter number of people:10\n",
      "Enter number of steps:3\n",
      "The Safe Position is 4\n"
     ]
    }
   ],
   "source": [
    "#Program 9\n",
    "def josephus(n, k): \n",
    "    if (n == 1):\n",
    "        return 1\n",
    "    else:\n",
    "        return (josephus(n - 1, k) + k-1) % n + 1\n",
    "    \n",
    "\n",
    "n=int(input(\"Enter number of people:\"))\n",
    "k =int(input(\"Enter number of steps:\"))\n",
    "  \n",
    "print(\"The Safe Position is\", josephus(n, k))"
   ]
  },
  {
   "cell_type": "code",
   "execution_count": 3,
   "metadata": {},
   "outputs": [
    {
     "name": "stdout",
     "output_type": "stream",
     "text": [
      "Enter the Array elements:7 3 2 4 9 12 56\n",
      "Enter number of students:3\n",
      "Minimum difference is 2\n"
     ]
    }
   ],
   "source": [
    "#Program 10 \n",
    "import sys\n",
    "def findMinDiff(arr, n, m): \n",
    "    if (m==0 or n==0): \n",
    "        return 0\n",
    "    arr.sort() \n",
    "    if (n < m): \n",
    "        return -1\n",
    "    min_diff = sys.maxsize  \n",
    "    first = 0\n",
    "    last = 0\n",
    "    i=0\n",
    "    while(i+m-1<n ): \n",
    "        diff = arr[i+m-1] - arr[i] \n",
    "        if (diff < min_diff): \n",
    "            min_diff = diff \n",
    "            first = i \n",
    "            last = i + m - 1 \n",
    "        i+=1    \n",
    "    return (arr[last] - arr[first]) \n",
    "  \n",
    "arr = list(map(int,input(\"Enter the Array elements:\").split()))\n",
    "m = int(input(\"Enter number of students:\"))\n",
    "n = len(arr) \n",
    "print(\"Minimum difference is\", findMinDiff(arr, n, m))\n"
   ]
  },
  {
   "cell_type": "code",
   "execution_count": 12,
   "metadata": {},
   "outputs": [
    {
     "name": "stdout",
     "output_type": "stream",
     "text": [
      "Your Secret Number is being generated.....\n",
      "Secret Number is generated.\n",
      "Guess the 4 digit numbers:5684\n",
      "None of your numbers in your input match.\n",
      "Enter your nect choice of numbers: 2684\n",
      "None of your numbers in your input match.\n",
      "Enter your nect choice of numbers: 23861\n",
      "None of your numbers in your input match.\n",
      "Enter your nect choice of numbers: 4158\n",
      "None of your numbers in your input match.\n",
      "Enter your nect choice of numbers: 5892\n",
      "None of your numbers in your input match.\n",
      "Enter your nect choice of numbers: 36547\n",
      "Not quite the number.But you did get 1 digit(s) correct!\n",
      "Also these numbers in your input were correct.\n",
      "3 X X X \n",
      "\n",
      "Enter your next choice of numbers:3587\n",
      "Not quite the number.But you did get 1 digit(s) correct!\n",
      "Also these numbers in your input were correct.\n",
      "3 X X X \n",
      "\n",
      "Enter your next choice of numbers:3278\n",
      "Not quite the number.But you did get 2 digit(s) correct!\n",
      "Also these numbers in your input were correct.\n",
      "3 2 X X \n",
      "\n",
      "Enter your next choice of numbers:3245\n",
      "Not quite the number.But you did get 2 digit(s) correct!\n",
      "Also these numbers in your input were correct.\n",
      "3 2 X X \n",
      "\n",
      "Enter your next choice of numbers:3435\n",
      "Not quite the number.But you did get 1 digit(s) correct!\n",
      "Also these numbers in your input were correct.\n",
      "3 X X X \n",
      "\n",
      "Enter your next choice of numbers:3235\n",
      "Not quite the number.But you did get 2 digit(s) correct!\n",
      "Also these numbers in your input were correct.\n",
      "3 2 X X \n",
      "\n",
      "Enter your next choice of numbers:3215\n",
      "Not quite the number.But you did get 2 digit(s) correct!\n",
      "Also these numbers in your input were correct.\n",
      "3 2 X X \n",
      "\n",
      "Enter your next choice of numbers:3235\n",
      "Not quite the number.But you did get 2 digit(s) correct!\n",
      "Also these numbers in your input were correct.\n",
      "3 2 X X \n",
      "\n",
      "Enter your next choice of numbers:3265\n",
      "Not quite the number.But you did get 2 digit(s) correct!\n",
      "Also these numbers in your input were correct.\n",
      "3 2 X X \n",
      "\n",
      "Enter your next choice of numbers:3255\n",
      "Not quite the number.But you did get 2 digit(s) correct!\n",
      "Also these numbers in your input were correct.\n",
      "3 2 X X \n",
      "\n",
      "Enter your next choice of numbers:3289\n",
      "Not quite the number.But you did get 2 digit(s) correct!\n",
      "Also these numbers in your input were correct.\n",
      "3 2 X X \n",
      "\n",
      "Enter your next choice of numbers:3279\n",
      "Not quite the number.But you did get 2 digit(s) correct!\n",
      "Also these numbers in your input were correct.\n",
      "3 2 X X \n",
      "\n",
      "Enter your next choice of numbers:3299\n",
      "Not quite the number.But you did get 2 digit(s) correct!\n",
      "Also these numbers in your input were correct.\n",
      "3 2 X X \n",
      "\n",
      "Enter your next choice of numbers:3256\n",
      "Not quite the number.But you did get 2 digit(s) correct!\n",
      "Also these numbers in your input were correct.\n",
      "3 2 X X \n",
      "\n",
      "Enter your next choice of numbers:3216\n",
      "Not quite the number.But you did get 2 digit(s) correct!\n",
      "Also these numbers in your input were correct.\n",
      "3 2 X X \n",
      "\n",
      "Enter your next choice of numbers:3206\n",
      "Not quite the number.But you did get 2 digit(s) correct!\n",
      "Also these numbers in your input were correct.\n",
      "3 2 X X \n",
      "\n",
      "Enter your next choice of numbers:3201\n",
      "Not quite the number.But you did get 2 digit(s) correct!\n",
      "Also these numbers in your input were correct.\n",
      "3 2 X X \n",
      "\n",
      "Enter your next choice of numbers:3211\n",
      "Not quite the number.But you did get 2 digit(s) correct!\n",
      "Also these numbers in your input were correct.\n",
      "3 2 X X \n",
      "\n",
      "Enter your next choice of numbers:3221\n",
      "Not quite the number.But you did get 3 digit(s) correct!\n",
      "Also these numbers in your input were correct.\n",
      "3 2 2 X \n",
      "\n",
      "Enter your next choice of numbers:3228\n",
      "Not quite the number.But you did get 3 digit(s) correct!\n",
      "Also these numbers in your input were correct.\n",
      "3 2 2 X \n",
      "\n",
      "Enter your next choice of numbers:3225\n",
      "Not quite the number.But you did get 3 digit(s) correct!\n",
      "Also these numbers in your input were correct.\n",
      "3 2 2 X \n",
      "\n",
      "Enter your next choice of numbers:3226\n",
      "Not quite the number.But you did get 3 digit(s) correct!\n",
      "Also these numbers in your input were correct.\n",
      "3 2 2 X \n",
      "\n",
      "Enter your next choice of numbers:3227\n",
      "Not quite the number.But you did get 3 digit(s) correct!\n",
      "Also these numbers in your input were correct.\n",
      "3 2 2 X \n",
      "\n",
      "Enter your next choice of numbers:3220\n",
      "Not quite the number.But you did get 3 digit(s) correct!\n",
      "Also these numbers in your input were correct.\n",
      "3 2 2 X \n",
      "\n",
      "Enter your next choice of numbers:3221\n",
      "Not quite the number.But you did get 3 digit(s) correct!\n",
      "Also these numbers in your input were correct.\n",
      "3 2 2 X \n",
      "\n",
      "Enter your next choice of numbers:3225\n",
      "Not quite the number.But you did get 3 digit(s) correct!\n",
      "Also these numbers in your input were correct.\n",
      "3 2 2 X \n",
      "\n",
      "Enter your next choice of numbers:3222\n",
      "Not quite the number.But you did get 3 digit(s) correct!\n",
      "Also these numbers in your input were correct.\n",
      "3 2 2 X \n",
      "\n",
      "Enter your next choice of numbers:3223\n",
      "You've become a Mastermind!\n",
      "It took you only 33 tries.\n"
     ]
    }
   ],
   "source": [
    "#Program 11\n",
    "import random\n",
    "print(\"Your Secret Number is being generated.....\")\n",
    "x=random.randrange(1000,10000)\n",
    "print(\"Secret Number is generated.\")\n",
    "n=int(input(\"Guess the 4 digit numbers:\"))\n",
    "if(n==x):\n",
    "    print(\"Great! You guessed the number in just 1 try! You're a Mastermind!\")\n",
    "else:\n",
    "    ctr=0\n",
    "    while(n!=x):\n",
    "        ctr+=1\n",
    "        count=0\n",
    "        n=str(n)\n",
    "        x=str(x)\n",
    "        correct=['X']*4\n",
    "        for i in range(0,4):\n",
    "            if(n[i]==x[i]):\n",
    "                count+=1\n",
    "                correct[i]=n[i]\n",
    "            else:\n",
    "                continue\n",
    "        if(count<4)and (count !=0):\n",
    "            print(\"Not quite the number.But you did get\",count,\"digit(s) correct!\")\n",
    "            print(\"Also these numbers in your input were correct.\")\n",
    "            for k in correct:\n",
    "                print(k,end=\" \")\n",
    "            print(\"\\n\")\n",
    "            n=int(input(\"Enter your next choice of numbers:\"))\n",
    "        \n",
    "        elif(count==0):\n",
    "            print(\"None of your numbers in your input match.\")\n",
    "            n=int(input(\"Enter your nect choice of numbers: \"))\n",
    "if n==x:\n",
    "    print(\"You've become a Mastermind!\")\n",
    "    print(\"It took you only\",ctr,\"tries.\")\n",
    "\n"
   ]
  },
  {
   "cell_type": "code",
   "execution_count": null,
   "metadata": {},
   "outputs": [],
   "source": []
  },
  {
   "cell_type": "code",
   "execution_count": null,
   "metadata": {},
   "outputs": [],
   "source": []
  }
 ],
 "metadata": {
  "kernelspec": {
   "display_name": "Python 3",
   "language": "python",
   "name": "python3"
  },
  "language_info": {
   "codemirror_mode": {
    "name": "ipython",
    "version": 3
   },
   "file_extension": ".py",
   "mimetype": "text/x-python",
   "name": "python",
   "nbconvert_exporter": "python",
   "pygments_lexer": "ipython3",
   "version": "3.6.9"
  }
 },
 "nbformat": 4,
 "nbformat_minor": 2
}
