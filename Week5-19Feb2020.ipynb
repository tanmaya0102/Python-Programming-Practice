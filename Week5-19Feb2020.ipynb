{
 "cells": [
  {
   "cell_type": "markdown",
   "metadata": {},
   "source": [
    "1.To demonstrate table creation and perform insert with SQL Using Python code (SQLite)"
   ]
  },
  {
   "cell_type": "code",
   "execution_count": 5,
   "metadata": {},
   "outputs": [],
   "source": [
    "import sqlite3 \n",
    "  \n",
    "connection = sqlite3.connect(\"myTable.db\") \n",
    "crsr = connection.cursor() \n",
    "   \n",
    "sql_command = \"\"\"CREATE TABLE emp (  \n",
    "staff_number INTEGER PRIMARY KEY,  \n",
    "fname VARCHAR(20),  \n",
    "lname VARCHAR(30),  \n",
    "gender CHAR(1),  \n",
    "joining DATE);\"\"\"\n",
    "   \n",
    "crsr.execute(sql_command)  \n",
    "sql_command = \"\"\"INSERT INTO emp VALUES (23, \"Rishabh\", \"Bansal\", \"M\", \"2014-03-28\");\"\"\"\n",
    "crsr.execute(sql_command)  \n",
    "sql_command = \"\"\"INSERT INTO emp VALUES (1, \"Bill\", \"Gates\", \"M\", \"1980-10-28\");\"\"\"\n",
    "crsr.execute(sql_command) \n",
    "connection.commit() \n",
    "connection.close()\n"
   ]
  },
  {
   "cell_type": "markdown",
   "metadata": {},
   "source": [
    "# Output\n"
   ]
  },
  {
   "cell_type": "markdown",
   "metadata": {},
   "source": [
    "sqlite> select * from emp;\n",
    "\n",
    "1|Bill|Gates|M|1980-10-28\n",
    "\n",
    "23|Rishabh|Bansal|M|2014-03-28"
   ]
  },
  {
   "cell_type": "markdown",
   "metadata": {},
   "source": [
    "2.Create the XML File Containing name; ID; address; city; pincode for the following four persons and read to print those information in the xml file using minidom python class. "
   ]
  },
  {
   "cell_type": "code",
   "execution_count": 10,
   "metadata": {},
   "outputs": [
    {
     "name": "stdout",
     "output_type": "stream",
     "text": [
      "*****Person*****\n",
      "Name: Tanmaya Harichandan\n",
      "ID: RA1811003010282\n",
      "City: Gurgaon\n",
      "Pincode: 122001\n",
      "Address: Ashok Vihar Phase 2\n",
      "*****Person*****\n",
      "Name: Vaibhav Suwalka\n",
      "ID: RA1811003010284\n",
      "City: Kota\n",
      "Pincode: 324005\n",
      "Address: Mahavir Nagar\n",
      "*****Person*****\n",
      "Name: Abhinav Tripathi\n",
      "ID: RA1811003010281\n",
      "City: Allahabad\n",
      "Pincode: 210004\n",
      "Address: Shivkuti\n",
      "*****Person*****\n",
      "Name: Manasa Ranjan\n",
      "ID: RA1811020101212\n",
      "City: Gurgaon\n",
      "Pincode: 122001\n",
      "Address: Ashok Vihar Phase 2\n"
     ]
    }
   ],
   "source": [
    "from xml.dom.minidom import parse\n",
    "import xml.dom.minidom\n",
    "DOMTree = xml.dom.minidom.parse(\"persons.xml\")\n",
    "collection = DOMTree.documentElement\n",
    "persons = collection.getElementsByTagName(\"Person\")\n",
    "for person in persons:\n",
    "    print( \"*****Person*****\")\n",
    "    name = person.getElementsByTagName('Name')[0]\n",
    "    print(\"Name: %s\" % name.childNodes[0].data)\n",
    "    id = person.getElementsByTagName('ID')[0]\n",
    "    print(\"ID: %s\" % id.childNodes[0].data)\n",
    "    city = person.getElementsByTagName('City')[0]\n",
    "    print(\"City: %s\" % city.childNodes[0].data)\n",
    "    pin = person.getElementsByTagName('Pincode')[0]\n",
    "    print(\"Pincode: %s\" % pin.childNodes[0].data)\n",
    "    add = person.getElementsByTagName('Address')[0]\n",
    "    print(\"Address: %s\" % add.childNodes[0].data)"
   ]
  },
  {
   "cell_type": "markdown",
   "metadata": {},
   "source": [
    "3.Create HTML file using python and print those information. "
   ]
  },
  {
   "cell_type": "code",
   "execution_count": 23,
   "metadata": {},
   "outputs": [
    {
     "data": {
      "text/html": [
       "<html>\n",
       "<head></head>\n",
       "<body><p>Hello World!</p></body>\n",
       "</html>"
      ],
      "text/plain": [
       "<IPython.core.display.HTML object>"
      ]
     },
     "execution_count": 23,
     "metadata": {},
     "output_type": "execute_result"
    }
   ],
   "source": [
    "import IPython\n",
    "f = open('helloworld.html','w')\n",
    "message = \"\"\"<html>\n",
    "<head></head>\n",
    "<body><p>Hello World!</p></body>\n",
    "</html>\"\"\"\n",
    "f.write(message)\n",
    "f.close()\n",
    "IPython.display.HTML('helloworld.html')"
   ]
  },
  {
   "cell_type": "markdown",
   "metadata": {},
   "source": [
    "4.Write a program to  Selects latitudes and longitudes using SQLite database to be stored in a file.db using Python"
   ]
  },
  {
   "cell_type": "code",
   "execution_count": 15,
   "metadata": {},
   "outputs": [
    {
     "name": "stdout",
     "output_type": "stream",
     "text": [
      "('12.823N', '80.044E')\n",
      "('28.459N', '77.0266E')\n",
      "('20.2961N', '85.8245E')\n"
     ]
    }
   ],
   "source": [
    "import sqlite3\n",
    "connection=sqlite3.connect(\"file.db\")\n",
    "crsr=connection.cursor()\n",
    "sql_command=\"\"\"SELECT lat,long FROM Coordinates;\"\"\"\n",
    "crsr.execute(sql_command)\n",
    "rows=crsr.fetchall()\n",
    "for i in rows:\n",
    "    print(i)"
   ]
  },
  {
   "cell_type": "markdown",
   "metadata": {},
   "source": [
    "5.Create two table using SQlite and have id as one of the column attribute and compare id with two table and if the same id is present in the two tables, print all the following information present with the id in two tables one by one. "
   ]
  },
  {
   "cell_type": "code",
   "execution_count": 28,
   "metadata": {},
   "outputs": [
    {
     "name": "stdout",
     "output_type": "stream",
     "text": [
      "('Nilay', 'Baranwal')\n",
      "('Abhinav', 'Tripathi')\n",
      "('Tanmaya', 'Harichandan')\n",
      "('Vaibhav', 'Suwalka')\n"
     ]
    }
   ],
   "source": [
    "import sqlite3 \n",
    "  \n",
    "connection = sqlite3.connect(\"Table.db\") \n",
    "crsr = connection.cursor() \n",
    "   \n",
    "sql_command = \"\"\"CREATE TABLE Students (  \n",
    "id INTEGER PRIMARY KEY,  \n",
    "fname VARCHAR(20),  \n",
    "lname VARCHAR(30));\"\"\"\n",
    "   \n",
    "crsr.execute(sql_command)  \n",
    "sql_command = \"\"\"INSERT INTO Students VALUES (281, \"Abhinav\", \"Tripathi\");\"\"\"\n",
    "crsr.execute(sql_command)  \n",
    "sql_command = \"\"\"INSERT INTO Students VALUES (282, \"Tanmaya\",\"Harichandan\");\"\"\"\n",
    "crsr.execute(sql_command)\n",
    "sql_command = \"\"\"INSERT INTO Students VALUES (284, \"Vaibhav\",\"Suwalka\");\"\"\"\n",
    "crsr.execute(sql_command) \n",
    "sql_command = \"\"\"INSERT INTO Students VALUES (022, \"Nilay\",\"Baranwal\");\"\"\"\n",
    "crsr.execute(sql_command)\n",
    "sql_command = \"\"\"INSERT INTO Students VALUES (008, \"Shreyas\",\"Swaminathan\");\"\"\"\n",
    "crsr.execute(sql_command)\n",
    "connection.commit()\n",
    "sql = \"\"\"CREATE TABLE CSE (  \n",
    "id INTEGER PRIMARY KEY,  \n",
    "fname VARCHAR(20),  \n",
    "lname VARCHAR(30));\"\"\"\n",
    "crsr.execute(sql)  \n",
    "sql= \"\"\"INSERT INTO CSE VALUES (281, \"Abhinav\", \"Tripathi\");\"\"\"\n",
    "crsr.execute(sql)  \n",
    "sql= \"\"\"INSERT INTO CSE VALUES (282, \"Tanmaya\",\"Harichandan\");\"\"\"\n",
    "crsr.execute(sql)\n",
    "sql= \"\"\"INSERT INTO CSE VALUES (284, \"Vaibhav\",\"Suwalka\");\"\"\"\n",
    "crsr.execute(sql) \n",
    "sql = \"\"\"INSERT INTO CSE VALUES (022, \"Nilay\",\"Baranwal\");\"\"\"\n",
    "crsr.execute(sql)\n",
    "connection.commit()\n",
    "comm=\"\"\"SELECT A.fname,A.lname FROM Students A,CSE B WHERE A.id=B.id \"\"\"\n",
    "crsr.execute(comm)\n",
    "rows=crsr.fetchall()\n",
    "for i in rows:\n",
    "    print(i)\n"
   ]
  },
  {
   "cell_type": "raw",
   "metadata": {},
   "source": [
    "6.Implement using pyDatalog:\n",
    "Assume given a set of facts of the form father(name1,name2) (name1 is the father of name2).\n",
    "    a. Define a predicate brother(X,Y) which holds iff X and Y are brothers.\n",
    "    b. Define a predicate cousin(X,Y) which holds iff X and Y are cousins.\n",
    "    c. Define a predicate grandson(X,Y) which holds iff X is a grandson of Y.\n",
    "    d. Define a predicate descendent(X,Y) which holds iff X is a descendent of Y.\n",
    "    e. Consider the following genealogical tree:\n",
    "        a\n",
    "       / \\\n",
    "      b   c\n",
    "     / \\  |\n",
    "    d   e f\n",
    "What are the answers generated by your definitions for the queries:\n",
    "   brother(X,Y)\n",
    "   cousin(X,Y)\n",
    "   grandson(X,Y)\n",
    "   descendent(X,Y)\n"
   ]
  },
  {
   "cell_type": "code",
   "execution_count": 1,
   "metadata": {},
   "outputs": [
    {
     "name": "stdout",
     "output_type": "stream",
     "text": [
      "X | Y\n",
      "--|--\n",
      "c | b\n",
      "c | c\n",
      "b | c\n",
      "b | b\n",
      "f | f\n",
      "e | e\n",
      "e | d\n",
      "d | d\n",
      "d | e\n",
      "X | Y\n",
      "--|--\n",
      "f | e\n",
      "e | d\n",
      "f | d\n",
      "d | d\n",
      "d | e\n",
      "d | f\n",
      "e | e\n",
      "e | f\n",
      "f | f\n",
      "X | Y\n",
      "--|--\n",
      "f | a\n",
      "e | a\n",
      "d | a\n",
      "X | Y\n",
      "--|--\n",
      "d | b\n",
      "e | b\n",
      "f | c\n",
      "b | a\n",
      "c | a\n",
      "d | a\n",
      "e | a\n",
      "f | a\n"
     ]
    }
   ],
   "source": [
    "from pyDatalog import pyDatalog\n",
    "pyDatalog.create_terms(\"father,cousin,brother,Z,a,b,c,d,e,f,X,Y,W,grandson,descendent\")\n",
    "+ father (b,'d')\n",
    "+ father (b,'e')\n",
    "+ father (c,'f')\n",
    "+ father (a,'b')\n",
    "+ father (a,'c')\n",
    "brother(X, Y) <= father(Z, X) & father(Z, Y) and not (X==Y)\n",
    "cousin(X, Y) <= father(Z, X) & father(W, Y) & brother(Z, W)\n",
    "grandson(X, Y) <= father(Z, X) & father(Y, Z)\n",
    "descendent(X, Y) <= father(Y, X)\n",
    "descendent(X, Y) <= father(Z, X) & descendent(Z, Y)\n",
    "print(brother(X,Y))\n",
    "print(cousin(X,Y))\n",
    "print(grandson(X,Y))\n",
    "print(descendent(X,Y))"
   ]
  },
  {
   "cell_type": "markdown",
   "metadata": {},
   "source": [
    "7.Encode the following facts and rules in pyDatalog:\n",
    "    • Bear is big\n",
    "    • Elephant is big\n",
    "    • Cat is small\n",
    "    • Bear is brown\n",
    "    • Cat is black\n",
    "    • Elephant is gray\n",
    "    • An animal is dark if it is black\n",
    "    • An animal is dark if it is brown\n",
    "Write a query to find which animal is dark and big."
   ]
  },
  {
   "cell_type": "code",
   "execution_count": 2,
   "metadata": {},
   "outputs": [
    {
     "name": "stdout",
     "output_type": "stream",
     "text": [
      "X   \n",
      "----\n",
      "bear\n"
     ]
    }
   ],
   "source": [
    "from pyDatalog import pyDatalog\n",
    "pyDatalog.create_terms('X,bear,elephant,cat,big,Y,small,black,brown,grey,dark,size,colour,animal')\n",
    "+ size (bear,'big')\n",
    "+ size (elephant,'big')\n",
    "+ size (cat,'small')\n",
    "+ colour (bear,'brown')\n",
    "+ colour (elephant,'grey')\n",
    "+ colour (cat,'black')\n",
    "dark(X) <= colour(X,'black')\n",
    "dark(X) <= colour(X,'brown')\n",
    "print(dark(X)  & size(X,'big'))"
   ]
  },
  {
   "cell_type": "markdown",
   "metadata": {},
   "source": [
    "8.The following are the marks scored by 5 students.\n",
    "Student Name   \tMark\n",
    "Ram\t\t\t90\n",
    "Raju\t\t\t45\n",
    "Priya\t\t\t85\n",
    "Carol\t\t\t70\n",
    "Shyam\t\t80\n",
    "Enter the above data using pyDatalog.\n",
    "Write queries for the following:\n",
    "    a. Print Student name and mark of all students.\n",
    "    b. Who has scored 80 marks?\n",
    "    c. What mark has been scored by Priya?\n",
    "    d. Write a rule ‘passm’ denoting that pass mark is greater than 50. Use the rule to print all students who failed.\n",
    "    e. Write rules for finding grade letters for a marks and use the rule to find the grade letter of a given mark."
   ]
  },
  {
   "cell_type": "code",
   "execution_count": 21,
   "metadata": {},
   "outputs": [
    {
     "name": "stdout",
     "output_type": "stream",
     "text": [
      "X     | Y \n",
      "------|---\n",
      "Ram   | 90\n",
      "Shyam | 80\n",
      "Priya | 85\n",
      "Carol | 70\n",
      "Raju  | 45 \n",
      "\n",
      "X    \n",
      "-----\n",
      "Shyam \n",
      "\n",
      "Y \n",
      "--\n",
      "85 \n",
      "\n",
      "X   \n",
      "----\n",
      "Raju\n"
     ]
    },
    {
     "data": {
      "text/plain": [
       "'\\nif marks[X]>=90:grade[X]==\"A\"\\nelif marks[X]>=80 and marks[X]<90:grade[X]==\"B\"\\nelif marks[X]>=70 and marks[X]<80:grade[X]==\"C\"\\nelif marks[X]>=60 and marks[X]<70:\\n    grade[X]==\"D\"\\nelif marks[X]>=50 and marks[X]<60:\\n    grade[X]==\"E\"\\nelif marks<50:\\n    grade[X]==\"F\" \\nprint(grade[X])\\n'"
      ]
     },
     "execution_count": 21,
     "metadata": {},
     "output_type": "execute_result"
    }
   ],
   "source": [
    "from pyDatalog import pyDatalog\n",
    "pyDatalog.create_terms('X,Y,Z,marks,passm,grade')\n",
    "marks['Ram']=90\n",
    "marks['Raju']=45\n",
    "marks['Priya']=85\n",
    "marks['Carol']=70\n",
    "marks['Shyam']=80\n",
    "(passm[X]=='Pass') <= (marks[X]>=50)\n",
    "(passm[X]=='Fail') <=(marks[X]<50)\n",
    "print(marks[X]==Y,\"\\n\")\n",
    "print(marks[X]==80,\"\\n\")\n",
    "print(marks['Priya']==Y,\"\\n\")\n",
    "print(passm[X]=='Fail')\n",
    "\"\"\"\n",
    "if marks[X]>=90:grade[X]==\"A\"\n",
    "elif marks[X]>=80 and marks[X]<90:grade[X]==\"B\"\n",
    "elif marks[X]>=70 and marks[X]<80:grade[X]==\"C\"\n",
    "elif marks[X]>=60 and marks[X]<70:\n",
    "    grade[X]==\"D\"\n",
    "elif marks[X]>=50 and marks[X]<60:\n",
    "    grade[X]==\"E\"\n",
    "elif marks<50:\n",
    "    grade[X]==\"F\" \n",
    "print(grade[X])\n",
    "\"\"\""
   ]
  },
  {
   "cell_type": "markdown",
   "metadata": {},
   "source": [
    "9.Solve the set of queries in the previous question using imperative programming paradigm in Python. Store the data in a dictionary.\n"
   ]
  },
  {
   "cell_type": "code",
   "execution_count": 10,
   "metadata": {},
   "outputs": [
    {
     "name": "stdout",
     "output_type": "stream",
     "text": [
      "Ram 90 \n",
      "\n",
      "Raju 45 \n",
      "\n",
      "Priya 85 \n",
      "\n",
      "Carol 70 \n",
      "\n",
      "Shyam 80 \n",
      "\n",
      "Shyam \n",
      "\n",
      "85 \n",
      "\n",
      "Raju\n",
      "\n",
      "B\n"
     ]
    }
   ],
   "source": [
    "def passm(mydict):\n",
    "     for i in mydict:\n",
    "        if mydict.get(i)<50:\n",
    "             print(i)\n",
    "def findgrade(marks):\n",
    "    if marks>90:\n",
    "        print ('\\nA')\n",
    "    elif marks>=80 and marks<90:\n",
    "         print ('\\nB')\n",
    "    elif marks>=70 and marks<80:\n",
    "             print ('\\nC')\n",
    "    elif marks>=60 and marks<70:\n",
    "             print ('\\nD')\n",
    "    elif marks >= 50 and marks <60:\n",
    "             print('\\nE')\n",
    "    elif marks<50:\n",
    "             print ('\\nF')\n",
    "marks = {'Ram':90,'Raju':45,'Priya':85,'Carol':70,'Shyam':80}\n",
    "for i in marks:\n",
    "     print(i,marks.get(i),\"\\n\")\n",
    "for i in marks:\n",
    "     if marks.get(i)==80:\n",
    "        print(i,\"\\n\")\n",
    "print(marks.get('Priya'),\"\\n\")\n",
    "passm(marks)\n",
    "findgrade(85)"
   ]
  },
  {
   "cell_type": "markdown",
   "metadata": {},
   "source": [
    "10.Write a recursive program to find factorial of a number using pyDatalog. "
   ]
  },
  {
   "cell_type": "code",
   "execution_count": 12,
   "metadata": {},
   "outputs": [
    {
     "name": "stdout",
     "output_type": "stream",
     "text": [
      "Enter a number:4\n",
      "N \n",
      "--\n",
      "24\n"
     ]
    }
   ],
   "source": [
    "from pyDatalog import pyDatalog\n",
    "pyDatalog.create_terms('factorial', 'N')\n",
    "factorial[N] = N * factorial[N - 1]\n",
    "factorial[1] = 1\n",
    "x=int(input(\"Enter a number:\"))\n",
    "print(factorial[x] == N)"
   ]
  }
 ],
 "metadata": {
  "kernelspec": {
   "display_name": "Python 3",
   "language": "python",
   "name": "python3"
  },
  "language_info": {
   "codemirror_mode": {
    "name": "ipython",
    "version": 3
   },
   "file_extension": ".py",
   "mimetype": "text/x-python",
   "name": "python",
   "nbconvert_exporter": "python",
   "pygments_lexer": "ipython3",
   "version": "3.6.9"
  }
 },
 "nbformat": 4,
 "nbformat_minor": 2
}
